{
 "cells": [
  {
   "cell_type": "code",
   "execution_count": 30,
   "metadata": {},
   "outputs": [
    {
     "output_type": "stream",
     "name": "stdout",
     "text": "{}\n{'name': 'stella', 'age': 24, 'city': 'Tokyo', 'hobby': 'Flower'}\n"
    }
   ],
   "source": [
    "#字典\n",
    "#创建空字典\n",
    "mydic={}\n",
    "print(mydic)\n",
    "#创建一个非空字典\n",
    "person={\"name\":\"stella\",\"age\":24,\"city\":\"Tokyo\",\"hobby\":\"Flower\"}\n",
    "print(person)"
   ]
  },
  {
   "cell_type": "code",
   "execution_count": 31,
   "metadata": {},
   "outputs": [
    {
     "output_type": "stream",
     "name": "stdout",
     "text": "{'name': 'stella', 'age': 24, 'city': 'Tokyo', 'hobby': 'Flower', 'dream': '宝くじをあたる'}\n"
    }
   ],
   "source": [
    "#向建立的字典中增加键值对\n",
    "person['dream']=\"宝くじをあたる\"\n",
    "print(person)"
   ]
  },
  {
   "cell_type": "code",
   "execution_count": 32,
   "metadata": {},
   "outputs": [
    {
     "output_type": "execute_result",
     "data": {
      "text/plain": "2271209833536"
     },
     "metadata": {},
     "execution_count": 32
    }
   ],
   "source": [
    "#字典能原地修改。列表是可变的，可以原地修改。字符串和元组是不可变的，不能原地修改\n",
    "a={}\n",
    "id(a)\n",
    "a[\"name\"]='sss'\n",
    "id(a)"
   ]
  },
  {
   "cell_type": "code",
   "execution_count": 33,
   "metadata": {},
   "outputs": [
    {
     "output_type": "stream",
     "name": "stdout",
     "text": "['__class__', '__contains__', '__delattr__', '__delitem__', '__dir__', '__doc__', '__eq__', '__format__', '__ge__', '__getattribute__', '__getitem__', '__gt__', '__hash__', '__init__', '__init_subclass__', '__iter__', '__le__', '__len__', '__lt__', '__ne__', '__new__', '__reduce__', '__reduce_ex__', '__repr__', '__reversed__', '__setattr__', '__setitem__', '__sizeof__', '__str__', '__subclasshook__', 'clear', 'copy', 'fromkeys', 'get', 'items', 'keys', 'pop', 'popitem', 'setdefault', 'update', 'values']\n"
    }
   ],
   "source": [
    "#字典键值对  键:不可变的 值:可变的\n",
    "#dir查看的方法都是对象的方法，需要用点去调用\n",
    "print(dir(dict))"
   ]
  },
  {
   "cell_type": "code",
   "execution_count": 34,
   "metadata": {},
   "outputs": [
    {
     "output_type": "stream",
     "name": "stdout",
     "text": "5\n{'name': 'stella', 'age': 26, 'city': 'Tokyo', 'hobby': 'Flower', 'dream': '宝くじをあたる'}\nstella\n{'name': 'stella', 'age': 26, 'city': 'Tokyo', 'hobby': 'Flower', 'dream': '宝くじをあたる'}\nTrue\n"
    }
   ],
   "source": [
    "#基本操作\n",
    "#len(d) 返回字典d中的键值对的数量\n",
    "#d[key] 返回字典d中的key的值\n",
    "#d[key] =value 将值value赋给字典的key\n",
    "#del d[key]删除该键值对\n",
    "#key in d 检查字典d中是否含有该key的项\n",
    "\n",
    "# print(person)\n",
    "print(len(person)) #查看长度\n",
    "person['age']=26 #修改元素的值 24变为26\n",
    "print(person)\n",
    "print(person[\"name\"]) #查看key的值\n",
    "# del(person[\"dream\"]) #删除dream的键值对\n",
    "print(person)\n",
    "print(\"dream\" in person) #查看dream是否在字典中 False"
   ]
  },
  {
   "cell_type": "code",
   "execution_count": 38,
   "metadata": {},
   "outputs": [
    {
     "output_type": "stream",
     "name": "stdout",
     "text": "2271208720960\n2271210379008\n2271208720960\n{}\n{}\nNone\n"
    }
   ],
   "source": [
    "#字典的方法，即对象的方法\n",
    "#'clear', 'copy', 'fromkeys', 'get', 'items', 'keys', 'pop', 'popitem', 'setdefault', 'update', 'values'\n",
    "#copy 是另外开辟一个内容空间 =就是一个内存空间\n",
    "person2=person.copy() #copy\n",
    "person3=person\n",
    "print(id(person))\n",
    "print(id(person2))\n",
    "print(id(person3))\n",
    "print(person2)\n",
    "person.clear() #清空列表 没有返回值，对字典实行了原地修改\n",
    "print(person)\n",
    "print(person3.get('hobby')) #没有该键时，打出none"
   ]
  },
  {
   "cell_type": "code",
   "execution_count": null,
   "metadata": {},
   "outputs": [],
   "source": []
  }
 ],
 "metadata": {
  "language_info": {
   "codemirror_mode": {
    "name": "ipython",
    "version": 3
   },
   "file_extension": ".py",
   "mimetype": "text/x-python",
   "name": "python",
   "nbconvert_exporter": "python",
   "pygments_lexer": "ipython3",
   "version": "3.8.3-final"
  },
  "orig_nbformat": 2,
  "kernelspec": {
   "name": "python38364bit963067c1be2945f39f5fdda088dafdb2",
   "display_name": "Python 3.8.3 64-bit"
  }
 },
 "nbformat": 4,
 "nbformat_minor": 2
}