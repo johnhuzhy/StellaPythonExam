{
 "cells": [
  {
   "cell_type": "code",
   "execution_count": 6,
   "metadata": {},
   "outputs": [
    {
     "output_type": "error",
     "ename": "KeyError",
     "evalue": "'name1'",
     "traceback": [
      "\u001b[1;31m---------------------------------------------------------------------------\u001b[0m",
      "\u001b[1;31mKeyError\u001b[0m                                  Traceback (most recent call last)",
      "\u001b[1;32m<ipython-input-6-9e75b14b499c>\u001b[0m in \u001b[0;36m<module>\u001b[1;34m\u001b[0m\n\u001b[0;32m      1\u001b[0m \u001b[0mperson\u001b[0m\u001b[1;33m=\u001b[0m\u001b[1;33m{\u001b[0m\u001b[1;34m\"name\"\u001b[0m\u001b[1;33m:\u001b[0m\u001b[1;34m\"stella\"\u001b[0m\u001b[1;33m,\u001b[0m\u001b[1;34m\"age\"\u001b[0m\u001b[1;33m:\u001b[0m\u001b[1;36m24\u001b[0m\u001b[1;33m,\u001b[0m\u001b[1;34m\"city\"\u001b[0m\u001b[1;33m:\u001b[0m\u001b[1;34m\"Tokyo\"\u001b[0m\u001b[1;33m,\u001b[0m\u001b[1;34m\"hobby\"\u001b[0m\u001b[1;33m:\u001b[0m\u001b[1;34m\"Flower\"\u001b[0m\u001b[1;33m}\u001b[0m\u001b[1;33m\u001b[0m\u001b[1;33m\u001b[0m\u001b[0m\n\u001b[0;32m      2\u001b[0m \u001b[1;31m# print(person.get(\"name1\"))\u001b[0m\u001b[1;33m\u001b[0m\u001b[1;33m\u001b[0m\u001b[1;33m\u001b[0m\u001b[0m\n\u001b[1;32m----> 3\u001b[1;33m \u001b[0mprint\u001b[0m\u001b[1;33m(\u001b[0m\u001b[0mperson\u001b[0m\u001b[1;33m[\u001b[0m\u001b[1;34m\"name1\"\u001b[0m\u001b[1;33m]\u001b[0m\u001b[1;33m)\u001b[0m\u001b[1;33m\u001b[0m\u001b[1;33m\u001b[0m\u001b[0m\n\u001b[0m",
      "\u001b[1;31mKeyError\u001b[0m: 'name1'"
     ]
    }
   ],
   "source": [
    "person={\"name\":\"stella\",\"age\":24,\"city\":\"Tokyo\",\"hobby\":\"Flower\"}\n",
    "print(person.get(\"name1\"))\n",
    "print(person[\"name1\"])\n",
    "#dict.get() 和dict[key]的区别是，如果建不起的话，dict[key]会报错，dict.get()返回None"
   ]
  },
  {
   "cell_type": "code",
   "execution_count": 9,
   "metadata": {},
   "outputs": [
    {
     "output_type": "stream",
     "name": "stdout",
     "text": "dict_items([('name', 'stella'), ('age', 24), ('city', 'Tokyo'), ('hobby', 'Flower')])\ndict_keys(['name', 'age', 'city', 'hobby'])\ndict_values(['stella', 24, 'Tokyo', 'Flower'])\n"
    }
   ],
   "source": [
    "#items keys values\n",
    "print(person.items())\n",
    "print(person.keys())\n",
    "print(person.values())"
   ]
  },
  {
   "cell_type": "code",
   "execution_count": 29,
   "metadata": {},
   "outputs": [
    {
     "output_type": "execute_result",
     "data": {
      "text/plain": "('hobby', 'Flower')"
     },
     "metadata": {},
     "execution_count": 29
    }
   ],
   "source": [
    "#pop popitem\n",
    "#列表里pop(i)用于删除指定索引的元素，如果不指定索引值，就默认删除最后一个。返回值是删除的那个元素。remove(x)用来删除指定元素\n",
    "#字典里的pop，是以建为参数，删除键值对\n",
    "# print(person.pop(\"hobby\"))\n",
    "# print(person)\n",
    "\n",
    "person1={\"name\":\"stella\",\"age\":24,\"city\":\"Tokyo\",\"hobby\":\"Flower\"}\n",
    "person1.popitem() #随机地删除一个并且把它返回,基本上都是最后一个"
   ]
  },
  {
   "cell_type": "code",
   "execution_count": 34,
   "metadata": {},
   "outputs": [
    {
     "output_type": "stream",
     "name": "stdout",
     "text": "{'language': 'python', 'skill': 'Java sliver'}\n{'skill': 'Java sliver'}\n"
    }
   ],
   "source": [
    "#update 更新了d1,d2内容不变\n",
    "d1={\"language\":\"python\"}\n",
    "d2={\"skill\":\"Java sliver\"}\n",
    "d1.update(d2)\n",
    "print(d1)\n",
    "print(d2)"
   ]
  },
  {
   "cell_type": "code",
   "execution_count": null,
   "metadata": {},
   "outputs": [],
   "source": []
  }
 ],
 "metadata": {
  "language_info": {
   "codemirror_mode": {
    "name": "ipython",
    "version": 3
   },
   "file_extension": ".py",
   "mimetype": "text/x-python",
   "name": "python",
   "nbconvert_exporter": "python",
   "pygments_lexer": "ipython3",
   "version": "3.8.3-final"
  },
  "orig_nbformat": 2,
  "kernelspec": {
   "name": "python38364bit963067c1be2945f39f5fdda088dafdb2",
   "display_name": "Python 3.8.3 64-bit"
  }
 },
 "nbformat": 4,
 "nbformat_minor": 2
}