{
 "cells": [
  {
   "cell_type": "code",
   "execution_count": 3,
   "metadata": {},
   "outputs": [
    {
     "output_type": "stream",
     "name": "stdout",
     "text": "[25, 36, 49, 64, 81]\n"
    }
   ],
   "source": [
    "l1 = [x*x for x in range(5,10)]\n",
    "print(l1)"
   ]
  },
  {
   "cell_type": "code",
   "execution_count": 1,
   "metadata": {},
   "outputs": [
    {
     "output_type": "stream",
     "name": "stdout",
     "text": "[1, 4, 9, 16, 25, 36, 49, 64, 81]\n"
    }
   ],
   "source": [
    "#列表解析\n",
    "#打印出1到9的每个整数的平方，并且将结果放在列表里打印出来\n",
    "#普通方法如下\n",
    "l2=[]\n",
    "for i in range(1,10):\n",
    "    l2.append(i*i)\n",
    "print(l2)    "
   ]
  },
  {
   "cell_type": "code",
   "execution_count": 3,
   "metadata": {},
   "outputs": [
    {
     "output_type": "stream",
     "name": "stdout",
     "text": "[1, 4, 9, 16, 25, 36, 49, 64, 81]\n"
    }
   ],
   "source": [
    "#列表解析如下\n",
    "l3=[x**2 for x in range(1,10)]\n",
    "print(l3)"
   ]
  },
  {
   "cell_type": "code",
   "execution_count": 4,
   "metadata": {},
   "outputs": [
    {
     "output_type": "stream",
     "name": "stdout",
     "text": "['glass', 'apple', 'green leaf', 'sun']\n"
    }
   ],
   "source": [
    "mybag=[' glass','apple','green leaf ','sun ']\n",
    "#去掉元素前后的空格\n",
    "l4=[one.strip() for one in mybag]\n",
    "print(l4)"
   ]
  },
  {
   "cell_type": "code",
   "execution_count": 5,
   "metadata": {},
   "outputs": [
    {
     "output_type": "stream",
     "name": "stdout",
     "text": "[0, 1, 2, 3, 4, 5, 6, 7, 8]\n"
    }
   ],
   "source": [
    "i=1 #全局变量\n",
    "l4=[i for i in range(9)] #for循环里的变量不再与全局变量有关联，这是Python的进步\n",
    "print(l4)"
   ]
  },
  {
   "cell_type": "code",
   "execution_count": null,
   "metadata": {},
   "outputs": [],
   "source": []
  }
 ],
 "metadata": {
  "language_info": {
   "codemirror_mode": {
    "name": "ipython",
    "version": 3
   },
   "file_extension": ".py",
   "mimetype": "text/x-python",
   "name": "python",
   "nbconvert_exporter": "python",
   "pygments_lexer": "ipython3",
   "version": "3.8.3-final"
  },
  "orig_nbformat": 2,
  "kernelspec": {
   "name": "python38364bit963067c1be2945f39f5fdda088dafdb2",
   "display_name": "Python 3.8.3 64-bit"
  }
 },
 "nbformat": 4,
 "nbformat_minor": 2
}