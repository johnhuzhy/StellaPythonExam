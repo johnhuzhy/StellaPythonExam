{
 "cells": [
  {
   "cell_type": "code",
   "execution_count": 1,
   "metadata": {},
   "outputs": [
    {
     "output_type": "execute_result",
     "data": {
      "text/plain": "7.44"
     },
     "metadata": {},
     "execution_count": 1
    }
   ],
   "source": [
    "3*3.72/1.5"
   ]
  },
  {
   "cell_type": "code",
   "execution_count": 3,
   "metadata": {},
   "outputs": [
    {
     "output_type": "stream",
     "name": "stdout",
     "text": "14.0\n14\n"
    }
   ],
   "source": [
    "# / // % * **\n",
    "#乘 如果有一个带小数，答案就带有小数\n",
    "print(7.0*2)\n",
    "print(7*2)"
   ]
  },
  {
   "cell_type": "code",
   "execution_count": 4,
   "metadata": {},
   "outputs": [
    {
     "output_type": "stream",
     "name": "stdout",
     "text": "49\n49.0\n"
    }
   ],
   "source": [
    "#幂次 引数带小数，答案也带\n",
    "print(7**2)\n",
    "print(7.0**2)"
   ]
  },
  {
   "cell_type": "code",
   "execution_count": 12,
   "metadata": {},
   "outputs": [
    {
     "output_type": "stream",
     "name": "stdout",
     "text": "3.0\n3.0\n3.25\n7.44\n"
    }
   ],
   "source": [
    "#除法 / 都带小数\n",
    "print(6/2)\n",
    "print(6.0/2)\n",
    "print(6.5/2)\n",
    "print(3*3.72/1.5)"
   ]
  },
  {
   "cell_type": "code",
   "execution_count": 11,
   "metadata": {},
   "outputs": [
    {
     "output_type": "stream",
     "name": "stdout",
     "text": "3.0\n3.0\n32\n3\n"
    }
   ],
   "source": [
    "#取整数 // 两边有一个带小数，结果取整后，也是带0，只有两个整数取整，才是整数\n",
    "print(6.5//2)\n",
    "print(6.0//2)\n",
    "print(65//2)\n",
    "print(25//7)\n"
   ]
  },
  {
   "cell_type": "code",
   "execution_count": 10,
   "metadata": {},
   "outputs": [
    {
     "output_type": "stream",
     "name": "stdout",
     "text": "2\n2.0\n"
    }
   ],
   "source": [
    "#% 取余数\n",
    "print(6%4)\n",
    "print(6.0%4)\n"
   ]
  },
  {
   "cell_type": "code",
   "execution_count": null,
   "metadata": {},
   "outputs": [],
   "source": []
  }
 ],
 "metadata": {
  "language_info": {
   "codemirror_mode": {
    "name": "ipython",
    "version": 3
   },
   "file_extension": ".py",
   "mimetype": "text/x-python",
   "name": "python",
   "nbconvert_exporter": "python",
   "pygments_lexer": "ipython3",
   "version": "3.8.3-final"
  },
  "orig_nbformat": 2,
  "kernelspec": {
   "name": "python38364bit963067c1be2945f39f5fdda088dafdb2",
   "display_name": "Python 3.8.3 64-bit"
  }
 },
 "nbformat": 4,
 "nbformat_minor": 2
}