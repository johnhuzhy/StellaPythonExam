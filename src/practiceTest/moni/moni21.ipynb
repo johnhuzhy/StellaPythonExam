{
 "cells": [
  {
   "cell_type": "code",
   "execution_count": 2,
   "metadata": {},
   "outputs": [
    {
     "output_type": "stream",
     "name": "stdout",
     "text": "出力結果:\n予期せぬ問題発生: 開始前 Exception発生\n"
    }
   ],
   "source": [
    "#try里是正常时才会走else，出现异常时else就不会走的\n",
    "#finally是一直会执行的\n",
    "#try里发生异常了，try里下面内容不会执行。\n",
    "#只有pirnt是打印。raise里内容是异常里的参数，直接打印出来，指定那个，出力那个\n",
    "print(\"出力結果:\")\n",
    "try:\n",
    "  raise Exception(\"開始前\",\"Exception発生\")\n",
    "  print(\"開始\")\n",
    "except IOError as msg:\n",
    "  print(\"IOError発生:\",msg.args[0])\n",
    "except Exception as msg:\n",
    "  print(\"予期せぬ問題発生:\",msg.args[0],msg.args[1])\n",
    "else:\n",
    "  print(\"Else表示\")"
   ]
  },
  {
   "cell_type": "code",
   "execution_count": null,
   "metadata": {},
   "outputs": [],
   "source": []
  }
 ],
 "metadata": {
  "language_info": {
   "codemirror_mode": {
    "name": "ipython",
    "version": 3
   },
   "file_extension": ".py",
   "mimetype": "text/x-python",
   "name": "python",
   "nbconvert_exporter": "python",
   "pygments_lexer": "ipython3",
   "version": "3.8.3-final"
  },
  "orig_nbformat": 2,
  "kernelspec": {
   "name": "python38364bit963067c1be2945f39f5fdda088dafdb2",
   "display_name": "Python 3.8.3 64-bit"
  }
 },
 "nbformat": 4,
 "nbformat_minor": 2
}