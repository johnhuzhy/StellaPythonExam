{
 "cells": [
  {
   "cell_type": "code",
   "execution_count": 1,
   "metadata": {},
   "outputs": [
    {
     "output_type": "stream",
     "name": "stdout",
     "text": "[('Noro', 'Kimura', 'Matsumoto'), ('Nakao', 'Miyashita', 'Tanaka'), ('Miyaoka', 'Shibata', 'Ivan')]\n"
    }
   ],
   "source": [
    "#zip list转成，结果要用list形式输出，不要忘了[]\n",
    "dic = [\n",
    "    ['Noro', 'Nakao', 'Miyaoka'],\n",
    "    ['Kimura', 'Miyashita', 'Shibata'],\n",
    "    ['Matsumoto', 'Tanaka', 'Ivan'],\n",
    "]\n",
    "\n",
    "print(list(zip(*dic)))"
   ]
  },
  {
   "cell_type": "code",
   "execution_count": 8,
   "metadata": {},
   "outputs": [
    {
     "output_type": "stream",
     "name": "stdout",
     "text": "[1, 2, 3, 4, 5]\n[6, 7, 8, 9, 10]\n[3, 8]\n"
    }
   ],
   "source": [
    "num = [[1, 2, 3, 4, 5],\n",
    "       [6, 7, 8, 9, 10]]\n",
    "\n",
    "for row in num:\n",
    "    print(row)\n",
    "\n",
    "col = [row[2] for row in num]\n",
    "print(col)"
   ]
  },
  {
   "cell_type": "code",
   "execution_count": 9,
   "metadata": {},
   "outputs": [
    {
     "output_type": "execute_result",
     "data": {
      "text/plain": "\"{'c', 'd', 'e', 'i', 'n', 'o', ...}\""
     },
     "metadata": {},
     "execution_count": 9
    }
   ],
   "source": [
    "import reprlib\n",
    "reprlib.repr(set('diveintocode'))\n",
    "\n"
   ]
  },
  {
   "cell_type": "code",
   "execution_count": 11,
   "metadata": {},
   "outputs": [
    {
     "output_type": "stream",
     "name": "stdout",
     "text": "title_default content 5\n"
    }
   ],
   "source": [
    "def fugafuga(title,content = 'default_content', number = 4):\n",
    "    content = 'content'\n",
    "    print(title, end=' ')\n",
    "    print(content, end=' ')\n",
    "    print(number)\n",
    " \n",
    "fugafuga(title = 'title_default', content = 'None', number = 5) "
   ]
  },
  {
   "cell_type": "code",
   "execution_count": 2,
   "metadata": {},
   "outputs": [
    {
     "output_type": "execute_result",
     "data": {
      "text/plain": "[('a', 1), ('b', 2), ('c', 3)]"
     },
     "metadata": {},
     "execution_count": 2
    }
   ],
   "source": [
    "a=['a','b','c']\n",
    "b=[1,2,3]\n",
    "list(zip(a,b))"
   ]
  },
  {
   "cell_type": "code",
   "execution_count": 8,
   "metadata": {},
   "outputs": [
    {
     "output_type": "stream",
     "name": "stdout",
     "text": "a b c\n"
    }
   ],
   "source": [
    "#シーケンスの案パッキング　長さと个数一致\n",
    "x,y,z='abc'\n",
    "print(x,y,z)"
   ]
  },
  {
   "cell_type": "code",
   "execution_count": null,
   "metadata": {},
   "outputs": [],
   "source": []
  }
 ],
 "metadata": {
  "language_info": {
   "codemirror_mode": {
    "name": "ipython",
    "version": 3
   },
   "file_extension": ".py",
   "mimetype": "text/x-python",
   "name": "python",
   "nbconvert_exporter": "python",
   "pygments_lexer": "ipython3",
   "version": "3.8.3-final"
  },
  "orig_nbformat": 2,
  "kernelspec": {
   "name": "python38364bit963067c1be2945f39f5fdda088dafdb2",
   "display_name": "Python 3.8.3 64-bit"
  }
 },
 "nbformat": 4,
 "nbformat_minor": 2
}