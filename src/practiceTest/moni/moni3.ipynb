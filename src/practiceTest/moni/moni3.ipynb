{
 "cells": [
  {
   "cell_type": "code",
   "execution_count": null,
   "metadata": {},
   "outputs": [],
   "source": [
    "#バイナリデータレコード\n",
    "\n",
    "#正規表現ツールを提供するモジュールを選択肢の中から選びなさい。\n",
    "\n",
    "#sys.pathの初期化で参照しないものを、 スクリプトが存在するフォルダのシンボリックリンク先\n",
    "\n",
    "#クリーンアップ動作を定義してあるオブジェクトに対して、クリーナップ動作を保証した形で利用するための構文で適切なものを選びなさい。 \n",
    "\n",
    "#対話モード時に、最後に表示した式を格納している変数を選びなさい。  変数：_ (アンダーバー)\n",
    "\n",
    "#reprlib.repr(set('diveintocode'))\n",
    "\n",
    "#ビルドイン関数dir()についての適切なものを選びなさい。\n",
    "\n",
    "# for k,v in titles.items():\n",
    "#   print(v)\n",
    "\n",
    "#例外の処理の説明として誤っているものを選択肢から選びなさい。\n",
    "\n",
    "#math.sqrt 开根号"
   ]
  }
 ],
 "metadata": {
  "language_info": {
   "codemirror_mode": {
    "name": "ipython",
    "version": 3
   },
   "file_extension": ".py",
   "mimetype": "text/x-python",
   "name": "python",
   "nbconvert_exporter": "python",
   "pygments_lexer": "ipython3",
   "version": 3
  },
  "orig_nbformat": 2
 },
 "nbformat": 4,
 "nbformat_minor": 2
}