{
 "cells": [
  {
   "cell_type": "code",
   "execution_count": 1,
   "metadata": {},
   "outputs": [],
   "source": [
    "# sys.pathの初期化で参照しないものを、\n",
    "# 選択肢の中から選びなさい。\n",
    "\n",
    "# 正解: スクリプトが存在するフォルダのシンボリックリンク先\n",
    "\n",
    "\n",
    "#環境変数　　カレントディレクトリ　　デフォルトパス　参照できる"
   ]
  },
  {
   "cell_type": "code",
   "execution_count": 13,
   "metadata": {},
   "outputs": [
    {
     "output_type": "stream",
     "name": "stdout",
     "text": "出力結果:\n円周率は3.142である。\n"
    }
   ],
   "source": [
    "#5是代表总共几位数。如果变成6，那前面有一个空格\n",
    "import math\n",
    "print(\"出力結果:\")\n",
    "print('円周率は%5.3fである。'%math.pi)"
   ]
  },
  {
   "cell_type": "code",
   "execution_count": null,
   "metadata": {},
   "outputs": [],
   "source": []
  }
 ],
 "metadata": {
  "language_info": {
   "codemirror_mode": {
    "name": "ipython",
    "version": 3
   },
   "file_extension": ".py",
   "mimetype": "text/x-python",
   "name": "python",
   "nbconvert_exporter": "python",
   "pygments_lexer": "ipython3",
   "version": "3.8.3-final"
  },
  "orig_nbformat": 2,
  "kernelspec": {
   "name": "python38364bit963067c1be2945f39f5fdda088dafdb2",
   "display_name": "Python 3.8.3 64-bit"
  }
 },
 "nbformat": 4,
 "nbformat_minor": 2
}