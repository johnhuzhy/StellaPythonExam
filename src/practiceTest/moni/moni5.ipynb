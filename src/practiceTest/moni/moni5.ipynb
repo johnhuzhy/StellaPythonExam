{
 "cells": [
  {
   "cell_type": "code",
   "execution_count": 1,
   "metadata": {},
   "outputs": [
    {
     "output_type": "stream",
     "name": "stdout",
     "text": "suzuki\n"
    }
   ],
   "source": [
    "#在赋值号时，是从右往左，但是每个表达式里还是从左往右，并且看优先级\n",
    "name1,name2,name3,name4= '', 'suzuki','tanaka','sato'\n",
    "selected_name = name1 or name2 or name3 or name4\n",
    "print(selected_name)"
   ]
  },
  {
   "cell_type": "code",
   "execution_count": 7,
   "metadata": {},
   "outputs": [
    {
     "output_type": "stream",
     "name": "stdout",
     "text": "1\n"
    }
   ],
   "source": [
    "#优先级由高往低not and or \n",
    "x=1 or 3 and 4 or 5 and not 1 #1 or 3 and 4 or 5 and 0\n",
    "# 1 or 4 or 0\n",
    "#1\n",
    "print(x)"
   ]
  },
  {
   "cell_type": "code",
   "execution_count": null,
   "metadata": {},
   "outputs": [],
   "source": []
  }
 ],
 "metadata": {
  "language_info": {
   "codemirror_mode": {
    "name": "ipython",
    "version": 3
   },
   "file_extension": ".py",
   "mimetype": "text/x-python",
   "name": "python",
   "nbconvert_exporter": "python",
   "pygments_lexer": "ipython3",
   "version": "3.8.3-final"
  },
  "orig_nbformat": 2,
  "kernelspec": {
   "name": "python38364bit963067c1be2945f39f5fdda088dafdb2",
   "display_name": "Python 3.8.3 64-bit"
  }
 },
 "nbformat": 4,
 "nbformat_minor": 2
}