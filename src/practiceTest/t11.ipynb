{
 "cells": [
  {
   "cell_type": "code",
   "execution_count": 1,
   "metadata": {},
   "outputs": [
    {
     "output_type": "execute_result",
     "data": {
      "text/plain": "'sapa eggs'"
     },
     "metadata": {},
     "execution_count": 1
    }
   ],
   "source": [
    "#文字列 '' \"\" \\转义字符\n",
    "#用\"\"写进的当单引号出，如果里面使用了单引号，就双号出。d多是单号出，使用了print话，不要引用符就出\n",
    "'sapa eggs'"
   ]
  },
  {
   "cell_type": "code",
   "execution_count": 2,
   "metadata": {},
   "outputs": [
    {
     "output_type": "execute_result",
     "data": {
      "text/plain": "\"doesn't\""
     },
     "metadata": {},
     "execution_count": 2
    }
   ],
   "source": [
    "'doesn\\'t'"
   ]
  },
  {
   "cell_type": "code",
   "execution_count": 3,
   "metadata": {},
   "outputs": [
    {
     "output_type": "execute_result",
     "data": {
      "text/plain": "'\"yes,\"he said'"
     },
     "metadata": {},
     "execution_count": 3
    }
   ],
   "source": [
    "'\"yes,\"he said'"
   ]
  },
  {
   "cell_type": "code",
   "execution_count": 4,
   "metadata": {},
   "outputs": [
    {
     "output_type": "execute_result",
     "data": {
      "text/plain": "'\"yes,\"he said.'"
     },
     "metadata": {},
     "execution_count": 4
    }
   ],
   "source": [
    "\"\\\"yes,\\\"he said.\"\n"
   ]
  },
  {
   "cell_type": "code",
   "execution_count": 5,
   "metadata": {},
   "outputs": [
    {
     "output_type": "execute_result",
     "data": {
      "text/plain": "'\"Isn\\'t,\" she said.'"
     },
     "metadata": {},
     "execution_count": 5
    }
   ],
   "source": [
    "'\"Isn\\'t,\" she said.'"
   ]
  },
  {
   "cell_type": "code",
   "execution_count": 6,
   "metadata": {},
   "outputs": [
    {
     "output_type": "execute_result",
     "data": {
      "text/plain": "'123'"
     },
     "metadata": {},
     "execution_count": 6
    }
   ],
   "source": [
    "\"123\""
   ]
  },
  {
   "cell_type": "code",
   "execution_count": 7,
   "metadata": {},
   "outputs": [
    {
     "output_type": "stream",
     "name": "stdout",
     "text": "sapa eggs\n"
    }
   ],
   "source": [
    "print('sapa eggs')"
   ]
  },
  {
   "cell_type": "code",
   "execution_count": 8,
   "metadata": {},
   "outputs": [
    {
     "output_type": "execute_result",
     "data": {
      "text/plain": "'python'"
     },
     "metadata": {},
     "execution_count": 8
    }
   ],
   "source": [
    "#文字列时可以自动连接。变数和式无效\n",
    "'py''thon'"
   ]
  },
  {
   "cell_type": "code",
   "execution_count": 12,
   "metadata": {},
   "outputs": [
    {
     "output_type": "stream",
     "name": "stdout",
     "text": "0\t1\t2\t3\t4\t5\t6\t7\t8\t9\t10\t11\t12"
    }
   ],
   "source": [
    "#end不写默认的是换行，end写了的话，是抑制换行，按照它指定的格式输出\n",
    "list_x = [x for x in range(13)]\n",
    "for x in list_x:\n",
    "    print(x,end='\\t')"
   ]
  },
  {
   "cell_type": "code",
   "execution_count": null,
   "metadata": {},
   "outputs": [],
   "source": []
  }
 ],
 "metadata": {
  "language_info": {
   "codemirror_mode": {
    "name": "ipython",
    "version": 3
   },
   "file_extension": ".py",
   "mimetype": "text/x-python",
   "name": "python",
   "nbconvert_exporter": "python",
   "pygments_lexer": "ipython3",
   "version": "3.8.3-final"
  },
  "orig_nbformat": 2,
  "kernelspec": {
   "name": "python38364bit963067c1be2945f39f5fdda088dafdb2",
   "display_name": "Python 3.8.3 64-bit"
  }
 },
 "nbformat": 4,
 "nbformat_minor": 2
}