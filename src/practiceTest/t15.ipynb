{
 "cells": [
  {
   "cell_type": "code",
   "execution_count": 1,
   "metadata": {},
   "outputs": [
    {
     "output_type": "execute_result",
     "data": {
      "text/plain": "'hello,stella shanshan'"
     },
     "metadata": {},
     "execution_count": 1
    }
   ],
   "source": [
    "#入出力 repr() str()\n",
    "s='hello,stella shanshan'\n",
    "str(s)"
   ]
  },
  {
   "cell_type": "code",
   "execution_count": 2,
   "metadata": {},
   "outputs": [
    {
     "output_type": "execute_result",
     "data": {
      "text/plain": "\"'hello,stella shanshan'\""
     },
     "metadata": {},
     "execution_count": 2
    }
   ],
   "source": [
    "s='hello,stella shanshan'\n",
    "repr(s)\n"
   ]
  },
  {
   "cell_type": "code",
   "execution_count": 3,
   "metadata": {},
   "outputs": [
    {
     "output_type": "execute_result",
     "data": {
      "text/plain": "'0.14285714285714285'"
     },
     "metadata": {},
     "execution_count": 3
    }
   ],
   "source": [
    "str(1/7)"
   ]
  },
  {
   "cell_type": "code",
   "execution_count": 6,
   "metadata": {},
   "outputs": [
    {
     "output_type": "stream",
     "name": "stdout",
     "text": "The value of x is 32.5,and y is 40000...\n"
    }
   ],
   "source": [
    "x=10*3.25\n",
    "y=200*200\n",
    "s='The value of x is '+repr(x)+',and y is '+repr(y)+'...'\n",
    "print(s)"
   ]
  },
  {
   "cell_type": "code",
   "execution_count": 8,
   "metadata": {},
   "outputs": [
    {
     "output_type": "stream",
     "name": "stdout",
     "text": "'hello world\\n'\n"
    }
   ],
   "source": [
    "hello='hello world\\n'\n",
    "hellos=repr(hello)\n",
    "print(hellos)\n"
   ]
  },
  {
   "cell_type": "code",
   "execution_count": 11,
   "metadata": {},
   "outputs": [
    {
     "output_type": "stream",
     "name": "stdout",
     "text": "1   1    1\n 2   4    8\n 3   9   27\n 4  16   64\n 5  25  125\n 6  36  216\n 7  49  343\n 8  64  512\n 9  81  729\n10 100 1000\n"
    }
   ],
   "source": [
    "#平方与立方 rjust() 右边追加空格\n",
    "for x in range(1,11):\n",
    "    print(repr(x).rjust(2),repr(x*x).rjust(3),end=' ')\n",
    "    print(repr(x*x*x).rjust(4))\n"
   ]
  },
  {
   "cell_type": "code",
   "execution_count": 15,
   "metadata": {},
   "outputs": [
    {
     "output_type": "stream",
     "name": "stdout",
     "text": "1  1   1\n        2  4   8\n        3  9  27\n        4 16  64\n        5 25 125\n        6 36 216\n        7 49 343\n        8 64 512\n        9 81 729\n       101001000\n"
    }
   ],
   "source": [
    "#d空格 f小数点 :.2d :.3f\n",
    "for x in range(1,11):\n",
    "    print('{0:2d}{1:3d}{2:4d}'.format(x,x*x,x*x*x))"
   ]
  },
  {
   "cell_type": "code",
   "execution_count": 21,
   "metadata": {},
   "outputs": [
    {
     "output_type": "stream",
     "name": "stdout",
     "text": "山田さんの身長は190.00cm、体重は105.300kgです。\n"
    }
   ],
   "source": [
    "line = \"{0}さんの身長は{1:.2f}cm、体重は{2:.3f}kgです。\".format(\"山田\", 190, 105.3)\n",
    "print(line)"
   ]
  },
  {
   "cell_type": "code",
   "execution_count": 24,
   "metadata": {},
   "outputs": [
    {
     "output_type": "stream",
     "name": "stdout",
     "text": "山田さんの身長は190.00cm、体重は105.300kgです。\n"
    }
   ],
   "source": [
    "line = \"{}さんの身長は{:.2f}cm、体重は{:.3f}kgです。\".format(\"山田\", 190, 105.3)\n",
    "print(line)"
   ]
  },
  {
   "cell_type": "code",
   "execution_count": 25,
   "metadata": {},
   "outputs": [
    {
     "output_type": "execute_result",
     "data": {
      "text/plain": "'00012'"
     },
     "metadata": {},
     "execution_count": 25
    }
   ],
   "source": [
    "#str.zfill\n",
    "'12'.zfill(5)"
   ]
  },
  {
   "cell_type": "code",
   "execution_count": 26,
   "metadata": {},
   "outputs": [
    {
     "output_type": "execute_result",
     "data": {
      "text/plain": "'-003.14'"
     },
     "metadata": {},
     "execution_count": 26
    }
   ],
   "source": [
    "#zifll 代表所有的位数，包括- 。\n",
    "'-3.14'.zfill(7)"
   ]
  },
  {
   "cell_type": "code",
   "execution_count": 28,
   "metadata": {},
   "outputs": [
    {
     "output_type": "execute_result",
     "data": {
      "text/plain": "'3.124565677'"
     },
     "metadata": {},
     "execution_count": 28
    }
   ],
   "source": [
    "#精度不够时往左边补0，当够时不会砍掉字符串的\n",
    "'3.124565677'.zfill(5)"
   ]
  },
  {
   "cell_type": "code",
   "execution_count": null,
   "metadata": {},
   "outputs": [],
   "source": []
  }
 ],
 "metadata": {
  "language_info": {
   "codemirror_mode": {
    "name": "ipython",
    "version": 3
   },
   "file_extension": ".py",
   "mimetype": "text/x-python",
   "name": "python",
   "nbconvert_exporter": "python",
   "pygments_lexer": "ipython3",
   "version": "3.8.3-final"
  },
  "orig_nbformat": 2,
  "kernelspec": {
   "name": "python38364bit963067c1be2945f39f5fdda088dafdb2",
   "display_name": "Python 3.8.3 64-bit"
  }
 },
 "nbformat": 4,
 "nbformat_minor": 2
}