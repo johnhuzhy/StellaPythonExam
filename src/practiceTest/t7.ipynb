{
 "cells": [
  {
   "cell_type": "code",
   "execution_count": 2,
   "metadata": {},
   "outputs": [
    {
     "output_type": "execute_result",
     "data": {
      "text/plain": "['java', 'DB', 'python']"
     },
     "metadata": {},
     "execution_count": 2
    }
   ],
   "source": [
    "#list 補足 append 往后追加一个元素\n",
    "l1=['java','DB']\n",
    "l1.append('python')\n",
    "l1"
   ]
  },
  {
   "cell_type": "code",
   "execution_count": 3,
   "metadata": {},
   "outputs": [
    {
     "output_type": "execute_result",
     "data": {
      "text/plain": "['java', 'DB', 1, 2, 3]"
     },
     "metadata": {},
     "execution_count": 3
    }
   ],
   "source": [
    "#extend(L) 往后追加一个li's't\n",
    "l2=['java','DB']\n",
    "l3=[1,2,3]\n",
    "l2.extend(l3)\n",
    "l2"
   ]
  },
  {
   "cell_type": "code",
   "execution_count": 5,
   "metadata": {},
   "outputs": [
    {
     "output_type": "execute_result",
     "data": {
      "text/plain": "['php', 'java', 'DB', 'python']"
     },
     "metadata": {},
     "execution_count": 5
    }
   ],
   "source": [
    "#insert(i,x) i超过也不会报错，因为是插入，可看成往后一位\n",
    "l2=['java','DB']\n",
    "l2.insert(3,'python')\n",
    "l2\n",
    "l2.insert(0,'php')\n",
    "l2"
   ]
  },
  {
   "cell_type": "code",
   "execution_count": 6,
   "metadata": {},
   "outputs": [
    {
     "output_type": "execute_result",
     "data": {
      "text/plain": "['DB']"
     },
     "metadata": {},
     "execution_count": 6
    }
   ],
   "source": [
    "#remove(x) 如果不存在会报错\n",
    "l2=['java','DB']\n",
    "l2.remove('java')\n",
    "l2\n"
   ]
  },
  {
   "cell_type": "code",
   "execution_count": 7,
   "metadata": {},
   "outputs": [
    {
     "output_type": "error",
     "ename": "IndexError",
     "evalue": "pop index out of range",
     "traceback": [
      "\u001b[1;31m---------------------------------------------------------------------------\u001b[0m",
      "\u001b[1;31mIndexError\u001b[0m                                Traceback (most recent call last)",
      "\u001b[1;32m<ipython-input-7-16b1410088cc>\u001b[0m in \u001b[0;36m<module>\u001b[1;34m\u001b[0m\n\u001b[0;32m      1\u001b[0m \u001b[1;31m#pop(i) 指定位置杀出，并且返回删除的数\u001b[0m\u001b[1;33m\u001b[0m\u001b[1;33m\u001b[0m\u001b[1;33m\u001b[0m\u001b[0m\n\u001b[0;32m      2\u001b[0m \u001b[0ml2\u001b[0m\u001b[1;33m=\u001b[0m\u001b[1;33m[\u001b[0m\u001b[1;34m'java'\u001b[0m\u001b[1;33m,\u001b[0m\u001b[1;34m'DB'\u001b[0m\u001b[1;33m]\u001b[0m\u001b[1;33m\u001b[0m\u001b[1;33m\u001b[0m\u001b[0m\n\u001b[1;32m----> 3\u001b[1;33m \u001b[0ml2\u001b[0m\u001b[1;33m.\u001b[0m\u001b[0mpop\u001b[0m\u001b[1;33m(\u001b[0m\u001b[1;36m3\u001b[0m\u001b[1;33m)\u001b[0m\u001b[1;33m\u001b[0m\u001b[1;33m\u001b[0m\u001b[0m\n\u001b[0m",
      "\u001b[1;31mIndexError\u001b[0m: pop index out of range"
     ]
    }
   ],
   "source": [
    "#pop(i) 指定位置杀出，并且返回删除的元素 i不能超过下标，不然会报错\n",
    "l2=['java','DB']\n",
    "l2.pop(3)"
   ]
  },
  {
   "cell_type": "code",
   "execution_count": 8,
   "metadata": {},
   "outputs": [
    {
     "output_type": "execute_result",
     "data": {
      "text/plain": "[]"
     },
     "metadata": {},
     "execution_count": 8
    }
   ],
   "source": [
    "#clear() 全部删除\n",
    "l2=['java','DB']\n",
    "l2.clear()\n",
    "l2"
   ]
  },
  {
   "cell_type": "code",
   "execution_count": 9,
   "metadata": {},
   "outputs": [
    {
     "output_type": "execute_result",
     "data": {
      "text/plain": "2"
     },
     "metadata": {},
     "execution_count": 9
    }
   ],
   "source": [
    "#list.count(x) list中x的个数 \n",
    "l2=['java','DB','java']\n",
    "l2.count('java')\n"
   ]
  },
  {
   "cell_type": "code",
   "execution_count": 13,
   "metadata": {},
   "outputs": [
    {
     "output_type": "execute_result",
     "data": {
      "text/plain": "[2, 3, 4, 5, 6, 8]"
     },
     "metadata": {},
     "execution_count": 13
    }
   ],
   "source": [
    "#sort(key=None,reverse=False) 从小到大\n",
    "#reverse=true 从大到小\n",
    "l1=[3,4,6,2,8,5]\n",
    "l1.sort()\n",
    "l1"
   ]
  },
  {
   "cell_type": "code",
   "execution_count": 17,
   "metadata": {},
   "outputs": [
    {
     "output_type": "stream",
     "name": "stdout",
     "text": "2157467112000\n2157467314560\n"
    }
   ],
   "source": [
    "#copy() 饭hi 复制后的ID不同，不是一个地址\n",
    "l1=[3,4,6,2,8,5]\n",
    "print(id(l1))\n",
    "print(id(l1.copy()))"
   ]
  },
  {
   "cell_type": "code",
   "execution_count": null,
   "metadata": {},
   "outputs": [],
   "source": []
  }
 ],
 "metadata": {
  "language_info": {
   "codemirror_mode": {
    "name": "ipython",
    "version": 3
   },
   "file_extension": ".py",
   "mimetype": "text/x-python",
   "name": "python",
   "nbconvert_exporter": "python",
   "pygments_lexer": "ipython3",
   "version": "3.8.3-final"
  },
  "orig_nbformat": 2,
  "kernelspec": {
   "name": "python38364bit963067c1be2945f39f5fdda088dafdb2",
   "display_name": "Python 3.8.3 64-bit"
  }
 },
 "nbformat": 4,
 "nbformat_minor": 2
}