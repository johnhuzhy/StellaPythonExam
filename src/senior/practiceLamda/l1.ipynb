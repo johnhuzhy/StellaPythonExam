{
 "cells": [
  {
   "cell_type": "code",
   "execution_count": 2,
   "metadata": {
    "tags": []
   },
   "outputs": [
    {
     "output_type": "stream",
     "name": "stdout",
     "text": "3\n3\n"
    }
   ],
   "source": [
    "#20200623 函数式编程 lamda map reduce filter 了解下即可\n",
    "#命令式编程常用 def if else for 我们习惯了命令式编程\n",
    "#lambda 表达式  也叫匿名函数\n",
    "#普通函数\n",
    "def add(x,y):\n",
    "    return x+y\n",
    "print(add(1,2))\n",
    "#lambda 表达式 lambdahh后直接跟参数，:后直接跟表达式，也就是返回值\n",
    "f=lambda x,y:x+y\n",
    "print(f(1,2))\n",
    "\n",
    "\n"
   ]
  },
  {
   "cell_type": "code",
   "execution_count": 4,
   "metadata": {
    "tags": []
   },
   "outputs": [
    {
     "output_type": "stream",
     "name": "stdout",
     "text": "4\n"
    }
   ],
   "source": [
    "#三元表达式\n",
    "#条件为真时返回的结果 if 条件判断 else 条件为假时返回的结果\n",
    "x,y=3,4\n",
    "r= x if x > y else y\n",
    "print(r)\n"
   ]
  },
  {
   "cell_type": "code",
   "execution_count": 5,
   "metadata": {
    "tags": []
   },
   "outputs": [
    {
     "output_type": "stream",
     "name": "stdout",
     "text": "[1, 4, 9, 16, 25, 36]\n"
    }
   ],
   "source": [
    "#map\n",
    "x=[1,2,3,4,5,6]\n",
    "def square(x):\n",
    "    return x*x\n",
    "r=map(square,x)\n",
    "print(list(r))"
   ]
  },
  {
   "cell_type": "code",
   "execution_count": 8,
   "metadata": {
    "tags": []
   },
   "outputs": [
    {
     "output_type": "stream",
     "name": "stdout",
     "text": "[2, 6, 12, 20, 30, 42, 56]\n"
    }
   ],
   "source": [
    "#lambda map结合使用 \n",
    "#如果两个参数长度不一样时，按最短的来算\n",
    "list_x=[1,2,3,4,5,6,7]\n",
    "list_y=[1,2,3,4,5,6,7,8]\n",
    "r=map(lambda x,y : x*x+y,list_x,list_y)\n",
    "print(list(r))"
   ]
  },
  {
   "cell_type": "code",
   "execution_count": 10,
   "metadata": {
    "tags": []
   },
   "outputs": [
    {
     "output_type": "stream",
     "name": "stdout",
     "text": "13\n"
    }
   ],
   "source": [
    "#reduce\n",
    "from functools import reduce\n",
    "list_x=[1,2,3,4]\n",
    "#reduce 是连续计算，连续调用lamba，3是初期值，会x=3 前面相加的结果赋值给x\n",
    "#(((3+1)+2)+3)+4\n",
    "r=reduce(lambda x,y:x+y,list_x,3)\n",
    "print(r)\n",
    "#大数据里有map reduce 编程模型 map是映射，reduce是归约，并行计算 都源于函数式编程\n"
   ]
  },
  {
   "cell_type": "code",
   "execution_count": null,
   "metadata": {},
   "outputs": [],
   "source": []
  }
 ],
 "metadata": {
  "language_info": {
   "codemirror_mode": {
    "name": "ipython",
    "version": 3
   },
   "file_extension": ".py",
   "mimetype": "text/x-python",
   "name": "python",
   "nbconvert_exporter": "python",
   "pygments_lexer": "ipython3",
   "version": "3.8.3-final"
  },
  "orig_nbformat": 2,
  "kernelspec": {
   "name": "python38364bit963067c1be2945f39f5fdda088dafdb2",
   "display_name": "Python 3.8.3 64-bit"
  }
 },
 "nbformat": 4,
 "nbformat_minor": 2
}