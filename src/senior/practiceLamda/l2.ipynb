{
 "cells": [
  {
   "cell_type": "code",
   "execution_count": null,
   "metadata": {
    "tags": []
   },
   "outputs": [],
   "source": [
    "#高阶里使用最多的是装饰器,能看懂就行，不用时会忘记正常\n",
    "#对修改是封闭的，对扩展是开放的\n",
    "import time\n",
    "def f1():\n",
    "    print('This is a function1')\n",
    "def f2():\n",
    "    print('This is a function2')\n",
    "#把函数名当作参数传入调用\n",
    "def print_curent_time(func):\n",
    "    print(time.time())\n",
    "    func()\n",
    "print_curent_time(f1)\n",
    "print_curent_time(f2)\n",
    "\n"
   ]
  },
  {
   "cell_type": "code",
   "execution_count": null,
   "metadata": {
    "tags": []
   },
   "outputs": [],
   "source": [
    "#使用装饰器改下以上代码\n",
    "import time\n",
    "def decorator(func):\n",
    "    def wrapper():\n",
    "        print(time.time())\n",
    "        func()\n",
    "    return wrapper\n",
    "\n",
    "def f1():\n",
    "    print('This is a function1')\n",
    "f=decorator(f1)\n",
    "f()\n",
    "    "
   ]
  },
  {
   "cell_type": "code",
   "execution_count": null,
   "metadata": {
    "tags": []
   },
   "outputs": [],
   "source": [
    "#20200624\n",
    "#@真正体现装饰器的作用\n",
    "import time\n",
    "def decorator(func):\n",
    "    def wrapper():\n",
    "        print(time.time())\n",
    "        func()\n",
    "    return wrapper\n",
    "\n",
    "@decorator\n",
    "def f1():\n",
    "    print('This is a function1')\n",
    "\n",
    "f1()"
   ]
  },
  {
   "cell_type": "code",
   "execution_count": null,
   "metadata": {
    "tags": []
   },
   "outputs": [],
   "source": [
    "#装饰器为了能通用，使用可变参数\n",
    "\n",
    "import time\n",
    "def decorator(func):\n",
    "    def wrapper(*args):\n",
    "        print(time.time())\n",
    "        func(*args)\n",
    "    return wrapper\n",
    "\n",
    "@decorator\n",
    "def f1(func_name):\n",
    "    print('This is a function1'+func_name)\n",
    "\n",
    "@decorator\n",
    "def f2(func_name1,func_name2):\n",
    "    print('This is a function2'+func_name1)\n",
    "    print('This is a function2'+func_name2)\n",
    "\n",
    "f1(\"stella\")\n",
    "f2(\"jhon\",\"qiuqiu\")"
   ]
  },
  {
   "cell_type": "code",
   "execution_count": null,
   "metadata": {
    "tags": []
   },
   "outputs": [],
   "source": [
    "#装饰器最完整的版本，*args,**kw 兼容所有函数都可以调用  kw是关键字参数 抽象时不知道传什么时可使用关键字参数\n",
    "import time\n",
    "def decorator(func):\n",
    "    def wrapper(*args,**kw):\n",
    "        print(time.time())\n",
    "        func(*args,**kw)\n",
    "    return wrapper\n",
    "\n",
    "@decorator\n",
    "def f1(func_name):\n",
    "    print('This is a function1'+func_name)\n",
    "\n",
    "@decorator\n",
    "def f2(func_name1,func_name2):\n",
    "    print('This is a function2'+func_name1)\n",
    "    print('This is a function2'+func_name2)\n",
    "\n",
    "#关键字参数\n",
    "@decorator\n",
    "def f3(func_name1,func_name2,**kw):\n",
    "    print('This is a function2'+func_name1)\n",
    "    print('This is a function2'+func_name2)\n",
    "    print(kw)\n",
    "\n",
    "f3('test1','test2',a=1,b=2,c=3)"
   ]
  },
  {
   "cell_type": "code",
   "execution_count": null,
   "metadata": {},
   "outputs": [],
   "source": [
    "#装饰器收尾\n",
    "#哪些地方可能使用"
   ]
  }
 ],
 "metadata": {
  "language_info": {
   "codemirror_mode": {
    "name": "ipython",
    "version": 3
   },
   "file_extension": ".py",
   "mimetype": "text/x-python",
   "name": "python",
   "nbconvert_exporter": "python",
   "pygments_lexer": "ipython3",
   "version": "3.8.3-final"
  },
  "orig_nbformat": 2,
  "kernelspec": {
   "name": "python38364bit963067c1be2945f39f5fdda088dafdb2",
   "display_name": "Python 3.8.3 64-bit"
  }
 },
 "nbformat": 4,
 "nbformat_minor": 2
}