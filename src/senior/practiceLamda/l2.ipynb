{
 "cells": [
  {
   "cell_type": "code",
   "execution_count": 1,
   "metadata": {
    "tags": []
   },
   "outputs": [
    {
     "output_type": "stream",
     "name": "stdout",
     "text": "1592905630.589439\nThis is a function1\n1592905630.589439\nThis is a function2\n"
    }
   ],
   "source": [
    "#高阶里使用最多的是装饰器,能看懂就行，不用时会忘记正常\n",
    "#对修改是封闭的，对扩展是开放的\n",
    "import time\n",
    "def f1():\n",
    "    print('This is a function1')\n",
    "def f2():\n",
    "    print('This is a function2')\n",
    "#把函数名当作参数传入调用\n",
    "def print_curent_time(func):\n",
    "    print(time.time())\n",
    "    func()\n",
    "print_curent_time(f1)\n",
    "print_curent_time(f2)\n",
    "\n"
   ]
  },
  {
   "cell_type": "code",
   "execution_count": 2,
   "metadata": {
    "tags": []
   },
   "outputs": [
    {
     "output_type": "stream",
     "name": "stdout",
     "text": "1592906467.6949606\nThis is a function1\n"
    }
   ],
   "source": [
    "#使用装饰器改下以上代码\n",
    "import time\n",
    "def decorator(func):\n",
    "    def wrapper():\n",
    "        print(time.time())\n",
    "        func()\n",
    "    return wrapper\n",
    "\n",
    "def f1():\n",
    "    print('This is a function1')\n",
    "f=decorator(f1)\n",
    "f()\n",
    "    "
   ]
  },
  {
   "cell_type": "code",
   "execution_count": null,
   "metadata": {},
   "outputs": [],
   "source": []
  }
 ],
 "metadata": {
  "language_info": {
   "codemirror_mode": {
    "name": "ipython",
    "version": 3
   },
   "file_extension": ".py",
   "mimetype": "text/x-python",
   "name": "python",
   "nbconvert_exporter": "python",
   "pygments_lexer": "ipython3",
   "version": "3.8.3-final"
  },
  "orig_nbformat": 2,
  "kernelspec": {
   "name": "python38364bit963067c1be2945f39f5fdda088dafdb2",
   "display_name": "Python 3.8.3 64-bit"
  }
 },
 "nbformat": 4,
 "nbformat_minor": 2
}