{
 "cells": [
  {
   "cell_type": "code",
   "execution_count": 2,
   "metadata": {
    "tags": []
   },
   "outputs": [
    {
     "output_type": "stream",
     "name": "stdout",
     "text": "False\n"
    }
   ],
   "source": [
    "#20200623\n",
    "#枚举的比较运算 不能做大小比较，只能做一个枚举之间的等值比较\n",
    "from enum import Enum\n",
    "class VIP(Enum):\n",
    "    YELLOW=1\n",
    "    GREEN=2\n",
    "    BLACK=3\n",
    "    RED=4\n",
    "\n",
    "print(VIP.YELLOW==VIP.GREEN)\n",
    "\n",
    "\n"
   ]
  },
  {
   "cell_type": "code",
   "execution_count": 8,
   "metadata": {
    "tags": []
   },
   "outputs": [
    {
     "output_type": "stream",
     "name": "stdout",
     "text": "VIP.YELLOW\n##########################################\nVIP.YELLOW\nVIP.BLACK\nVIP.RED\n##########################################\n('YELLOW', <VIP.YELLOW: 1>)\n('YELLOW_ALIAS', <VIP.YELLOW: 1>)\n('BLACK', <VIP.BLACK: 3>)\n('RED', <VIP.RED: 4>)\n##########################################\nYELLOW\nYELLOW_ALIAS\nBLACK\nRED\n"
    }
   ],
   "source": [
    "from enum import Enum\n",
    "class VIP(Enum):\n",
    "    YELLOW=1\n",
    "    YELLOW_ALIAS=1 #别名 如果值相同的话，后面的那个会视作别名\n",
    "    BLACK=3\n",
    "    RED=4\n",
    "\n",
    "print(VIP.YELLOW_ALIAS)\n",
    "print('#'*42)\n",
    "#遍历时别名不会被打印出来\n",
    "for v in VIP: \n",
    "    print(v)\n",
    "print('#'*42)\n",
    "#这种遍历别名会被打印出来，items得到的是一个元组\n",
    "for v in VIP.__members__.items():\n",
    "    print(v)\n",
    "#直接得到标签名，包含别名\n",
    "print('#'*42)\n",
    "for v in VIP.__members__:\n",
    "    print(v)"
   ]
  },
  {
   "cell_type": "code",
   "execution_count": 9,
   "metadata": {
    "tags": []
   },
   "outputs": [
    {
     "output_type": "stream",
     "name": "stdout",
     "text": "VIP.YELLOW\n"
    }
   ],
   "source": [
    "#枚举转换\n",
    "from enum import Enum\n",
    "class VIP(Enum):\n",
    "    YELLOW=1\n",
    "    GREEN=2\n",
    "    BLACK=3\n",
    "    RED=4\n",
    "a=1;\n",
    "print(VIP(a))"
   ]
  },
  {
   "cell_type": "code",
   "execution_count": null,
   "metadata": {},
   "outputs": [],
   "source": [
    "#枚举小结 枚举不能被实列化\n",
    "from enum import Enum\n",
    "from enum import IntEnum,unique\n",
    "#Enum代表值可以为任意值，也可以为字符串\n",
    "class VIP(Enum):\n",
    "    YELLOW=1\n",
    "    GREEN='strgrenn'\n",
    "    BLACK=3\n",
    "    RED=4\n",
    "#IntEnum代表值只能为整数，不然会报错\n",
    "class VIP2(IntEnum):\n",
    "    YELLOW=1\n",
    "    GREEN=2\n",
    "    BLACK=3\n",
    "    RED=4\n",
    "#想要枚举不重复，使用UNIQUE 以下有重复，会报错\n",
    "@unique\n",
    "class VIP3(IntEnum):\n",
    "    YELLOW=1\n",
    "    GREEN=1\n",
    "    BLACK=3\n",
    "    RED=4"
   ]
  }
 ],
 "metadata": {
  "language_info": {
   "codemirror_mode": {
    "name": "ipython",
    "version": 3
   },
   "file_extension": ".py",
   "mimetype": "text/x-python",
   "name": "python",
   "nbconvert_exporter": "python",
   "pygments_lexer": "ipython3",
   "version": "3.8.3-final"
  },
  "orig_nbformat": 2,
  "kernelspec": {
   "name": "python38364bit963067c1be2945f39f5fdda088dafdb2",
   "display_name": "Python 3.8.3 64-bit"
  }
 },
 "nbformat": 4,
 "nbformat_minor": 2
}