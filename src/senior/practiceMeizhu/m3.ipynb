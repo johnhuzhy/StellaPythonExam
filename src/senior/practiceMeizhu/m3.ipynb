{
 "cells": [
  {
   "cell_type": "code",
   "execution_count": 1,
   "metadata": {
    "tags": []
   },
   "outputs": [
    {
     "output_type": "stream",
     "name": "stdout",
     "text": "100\n(<cell at 0x0000019C8367A0A0: int object at 0x00007FF8C92519A0>,)\n25\n"
    }
   ],
   "source": [
    "#进阶内容 20200623\n",
    "#闭包=函数+环境变量\n",
    "def curve_pre():\n",
    "    a=25 #环境变量\n",
    "    def curve(x):\n",
    "        return a*x*x\n",
    "    return curve #函数可以嵌套函数，函数可以作为返回值\n",
    "\n",
    "a=10 #不会调用这个a，闭包会用环境变量的25\n",
    "f=curve_pre()\n",
    "print(f(2))\n",
    "print(f.__closure__)\n",
    "print(f.__closure__[0].cell_contents)\n"
   ]
  },
  {
   "cell_type": "code",
   "execution_count": 4,
   "metadata": {
    "tags": []
   },
   "outputs": [
    {
     "output_type": "stream",
     "name": "stdout",
     "text": "10\n20\n10\n"
    }
   ],
   "source": [
    "#这不是一个闭包。原因是f2里还定义了一个局部变量a\n",
    "def f1():\n",
    "    a=10\n",
    "    def f2():\n",
    "        a=20\n",
    "        print(a)\n",
    "    print(a) #10\n",
    "    f2() #20\n",
    "    print(a)\n",
    "\n",
    "f1()   \n"
   ]
  },
  {
   "cell_type": "code",
   "execution_count": 8,
   "metadata": {
    "tags": []
   },
   "outputs": [
    {
     "output_type": "stream",
     "name": "stdout",
     "text": "8\n"
    }
   ],
   "source": [
    "\n",
    "\n",
    "\n",
    "\n"
   ]
  },
  {
   "cell_type": "code",
   "execution_count": null,
   "metadata": {},
   "outputs": [],
   "source": []
  }
 ],
 "metadata": {
  "language_info": {
   "codemirror_mode": {
    "name": "ipython",
    "version": 3
   },
   "file_extension": ".py",
   "mimetype": "text/x-python",
   "name": "python",
   "nbconvert_exporter": "python",
   "pygments_lexer": "ipython3",
   "version": "3.8.3-final"
  },
  "orig_nbformat": 2,
  "kernelspec": {
   "name": "python38364bit963067c1be2945f39f5fdda088dafdb2",
   "display_name": "Python 3.8.3 64-bit"
  }
 },
 "nbformat": 4,
 "nbformat_minor": 2
}