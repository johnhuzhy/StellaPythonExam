{
 "cells": [
  {
   "cell_type": "code",
   "execution_count": 4,
   "metadata": {
    "tags": []
   },
   "outputs": [
    {
     "output_type": "stream",
     "name": "stdout",
     "text": "2\n5\n11\n"
    }
   ],
   "source": [
    "#练习题 20200623\n",
    "origin=0\n",
    "\n",
    "def go(step):\n",
    "    global origin\n",
    "    origin=origin+step #局部变量要变成全局变量使用，要加global\n",
    "    return origin\n",
    "    \n",
    "print(go(2))\n",
    "print(go(3))\n",
    "print(go(6))"
   ]
  },
  {
   "cell_type": "code",
   "execution_count": null,
   "metadata": {},
   "outputs": [],
   "source": [
    "#闭包练习题　自己写的\n",
    "# x=0\n",
    "# 3 result=3\n",
    "# 5 result=8\n",
    "# 6 result=14\n",
    "\n",
    "def sum():\n",
    "    x=0\n",
    "    sum_floor=0\n",
    "    def sum2(f):\n",
    "        sum_floor=x+f\n",
    "        return sum_floor\n",
    "    return sum2\n",
    "\n",
    "r=sum()\n",
    "print(r(8))"
   ]
  },
  {
   "cell_type": "code",
   "execution_count": 6,
   "metadata": {
    "tags": []
   },
   "outputs": [
    {
     "output_type": "stream",
     "name": "stdout",
     "text": "2\n5\n11\n"
    }
   ],
   "source": [
    "#正确的 改变的变量都放在函数里，少去改变全局变量\n",
    "origin=0\n",
    "\n",
    "def factory(pos):\n",
    "    def go(step):\n",
    "        nonlocal pos\n",
    "        new_pos=pos+step\n",
    "        pos=new_pos\n",
    "        return new_pos\n",
    "    return go\n",
    "\n",
    "tourist=factory(origin)\n",
    "print(tourist(2))\n",
    "print(tourist(3))\n",
    "print(tourist(6))"
   ]
  },
  {
   "cell_type": "code",
   "execution_count": null,
   "metadata": {},
   "outputs": [],
   "source": []
  }
 ],
 "metadata": {
  "language_info": {
   "codemirror_mode": {
    "name": "ipython",
    "version": 3
   },
   "file_extension": ".py",
   "mimetype": "text/x-python",
   "name": "python",
   "nbconvert_exporter": "python",
   "pygments_lexer": "ipython3",
   "version": "3.8.3-final"
  },
  "orig_nbformat": 2,
  "kernelspec": {
   "name": "python38364bit963067c1be2945f39f5fdda088dafdb2",
   "display_name": "Python 3.8.3 64-bit"
  }
 },
 "nbformat": 4,
 "nbformat_minor": 2
}