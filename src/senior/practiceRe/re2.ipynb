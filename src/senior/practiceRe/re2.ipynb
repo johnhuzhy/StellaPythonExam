{
 "cells": [
  {
   "cell_type": "code",
   "execution_count": 2,
   "metadata": {
    "tags": []
   },
   "outputs": [
    {
     "output_type": "stream",
     "name": "stdout",
     "text": "['Java', 'Java']\n字符串中包含Java\n"
    }
   ],
   "source": [
    "#20200619勉強\n",
    "#正则表达式 是一种规则\n",
    "#printall\n",
    "import re\n",
    "a='c|c++|Java|c#|Python|Javascript'\n",
    "r=re.findall('Java',a)\n",
    "print(r)\n",
    "if len(r)>0:\n",
    "    print('字符串中包含Java')\n",
    "else:\n",
    "    print(\"字符串中不包含Java\")"
   ]
  },
  {
   "cell_type": "code",
   "execution_count": 4,
   "metadata": {
    "tags": []
   },
   "outputs": [
    {
     "output_type": "stream",
     "name": "stdout",
     "text": "['3', '5', '8', '9', '0']\n['c', 'c', '+', '+', 'J', 'a', 'v', 'a', 'c', '#', 'P', 'y', 't', 'h', 'o', 'n', 'J', 'a', 'v', 'a', 's', 'c', 'r', 'i', 'p', 't']\n"
    }
   ],
   "source": [
    "import re\n",
    "# \\d提取数字字符  \\D提取非数字字符\n",
    "# 'python' 普通字符 '\\d'元字符\n",
    "a='c3c++5Java8c#9Python0Javascript'\n",
    "r=re.findall('\\d',a)\n",
    "x=re.findall('\\D',a)\n",
    "print(r)\n",
    "print(x)"
   ]
  },
  {
   "cell_type": "code",
   "execution_count": 9,
   "metadata": {
    "tags": []
   },
   "outputs": [
    {
     "output_type": "stream",
     "name": "stdout",
     "text": "['acc', 'afc']\n['abc', 'adc', 'aec', 'ahc']\n['acc', 'adc', 'aec', 'afc']\n"
    }
   ],
   "source": [
    "#字符集\n",
    "import re \n",
    "#从中找出中间字母是c或者f的\n",
    "s='abc,acc,adc,aec,afc,ahc'\n",
    "r=re.findall('a[cf]c',s) #元字符和普通字符结合使用 []里代表的是或者关系\n",
    "x=re.findall('a[^cf]c',s) #^代表不是 中间不是c或f\n",
    "y=re.findall('a[c-f]c',s) #取出中间是c到f的\n",
    "print(r)\n",
    "print(x)\n",
    "print(y)"
   ]
  },
  {
   "cell_type": "code",
   "execution_count": 13,
   "metadata": {
    "tags": []
   },
   "outputs": [
    {
     "output_type": "stream",
     "name": "stdout",
     "text": "['3', '5', '8', '9', '0']\n['3', '5', '8', '9', '0']\n['c', '3', 'c', '_', '5', 'J', 'a', 'v', 'a', '8', 'c', '9', 'P', 'y', 't', 'h', 'o', 'n', '0', '_', 'J', 'a', 'v', 'a', 's', 'c', 'r', 'i', 'p', 't']\n['c', '3', 'c', '_', '5', 'J', 'a', 'v', 'a', '8', 'c', '9', 'P', 'y', 't', 'h', 'o', 'n', '0', '_', 'J', 'a', 'v', 'a', 's', 'c', 'r', 'i', 'p', 't']\n['+', '+', ' ', '\\t', '#', '\\n', '&']\n[' ', '\\t', '\\n']\n"
    }
   ],
   "source": [
    "#概括字符集\n",
    "# \\d \\D\n",
    "# \\w匹配单词字符包括下划线   \\W非单词字符\n",
    "# \\s 空白字符 \\S 非空白字符\n",
    "import re\n",
    "a='c3c++_5 Java\\t8c#9Python\\n0_Java&script'\n",
    "r=re.findall('\\d',a) \n",
    "r1=re.findall('[0-9]',a) #同上相同\n",
    "x=re.findall('\\w',a)\n",
    "x1=re.findall('[A-Za-z0-9_]',a) #同上相同\n",
    "y=re.findall('\\W',a)\n",
    "z=re.findall('\\s',a)\n",
    "print(r)\n",
    "print(r1)\n",
    "print(x)\n",
    "print(x1)\n",
    "print(y)\n",
    "print(z)\n"
   ]
  },
  {
   "cell_type": "code",
   "execution_count": null,
   "metadata": {},
   "outputs": [],
   "source": []
  }
 ],
 "metadata": {
  "language_info": {
   "codemirror_mode": {
    "name": "ipython",
    "version": 3
   },
   "file_extension": ".py",
   "mimetype": "text/x-python",
   "name": "python",
   "nbconvert_exporter": "python",
   "pygments_lexer": "ipython3",
   "version": "3.8.3-final"
  },
  "orig_nbformat": 2,
  "kernelspec": {
   "name": "python38364bit963067c1be2945f39f5fdda088dafdb2",
   "display_name": "Python 3.8.3 64-bit"
  }
 },
 "nbformat": 4,
 "nbformat_minor": 2
}