{
 "cells": [
  {
   "cell_type": "code",
   "execution_count": 2,
   "metadata": {
    "tags": []
   },
   "outputs": [
    {
     "output_type": "stream",
     "name": "stdout",
     "text": "['p', 'y', 't', 'h', 'o', 'n', 'j', 'a', 'v', 'a', 'p', 'h', 'p']\n['pyt', 'hon', 'jav', 'php']\n['pyt', 'hon', 'jav', 'php']\n['python', 'java', 'php']\n"
    }
   ],
   "source": [
    "#20200620(土))学习\n",
    "#数量词\n",
    "import re\n",
    "a='python 1111java678php'\n",
    "r=re.findall('[a-z]',a)\n",
    "x1=re.findall('[a-z][a-z][a-z]',a)\n",
    "x2=re.findall('[a-z]{3}',a)#字符重复的次数 [abc]或关系，(abc)且关系\n",
    "y=re.findall('[a-z]{3,6}',a)\n",
    "print(r)\n",
    "print(x1)\n",
    "print(x2)\n",
    "print(y)"
   ]
  },
  {
   "cell_type": "code",
   "execution_count": 3,
   "metadata": {
    "tags": []
   },
   "outputs": [
    {
     "output_type": "stream",
     "name": "stdout",
     "text": "['python', 'java', 'php']\n['pyt', 'hon', 'jav', 'php']\n"
    }
   ],
   "source": [
    "#贪婪与非贪婪 {3,6}会尽量按6位来匹配，python选择贪婪模式\n",
    "import re\n",
    "a='python 1111java678php'\n",
    "y=re.findall('[a-z]{3,6}',a) #贪婪模式 按最大匹配\n",
    "y1=re.findall('[a-z]{3,6}?',a) #加？是非贪婪模式 按最小量来匹配\n",
    "print(y)\n",
    "print(y1)"
   ]
  },
  {
   "cell_type": "code",
   "execution_count": 5,
   "metadata": {
    "tags": []
   },
   "outputs": [
    {
     "output_type": "stream",
     "name": "stdout",
     "text": "['pytho', 'python', 'pythonn']\n['python', 'pythonn']\n['pytho', 'python', 'python']\n"
    }
   ],
   "source": [
    "#  *前字符匹配0次或者无限多次\n",
    "#  +前字符匹配1次或者无限多次\n",
    "#  ?前字符匹配0次或者1次\n",
    "import re\n",
    "a='pytho0python1pythonn2'\n",
    "r=re.findall('python*',a) #n有0次或者无限多次\n",
    "r1=re.findall('python+',a)#n有1次或者无限多次\n",
    "r2=re.findall('python?',a)#n有0次，或则1次，但是后面有多个n的也会当有一个显示出来，可以用来做去重\n",
    "print(r)\n",
    "print(r1)\n",
    "print(r2)\n",
    "\n"
   ]
  },
  {
   "cell_type": "code",
   "execution_count": 6,
   "metadata": {
    "tags": []
   },
   "outputs": [
    {
     "output_type": "stream",
     "name": "stdout",
     "text": "['pytho', 'python', 'python']\n['python', 'pythonn']\n['python', 'python']\n"
    }
   ],
   "source": [
    "#注意?的意思。前面如果是字符，代表匹配0次或者1次。如果是数字，代表取的是贪婪模式，按最小取\n",
    "import re\n",
    "a='pytho0python1pythonn2'\n",
    "r1=re.findall('python?',a) #代表匹配0次或者1次\n",
    "r2=re.findall('python{1,2}',a) #贪婪模式，按最大取，但是符合最小的也打印出来\n",
    "r3=re.findall('python{1,2}?',a) #非贪婪模式，按最小取\n",
    "print(r1)\n",
    "print(r2)\n",
    "print(r3)\n"
   ]
  },
  {
   "cell_type": "code",
   "execution_count": 14,
   "metadata": {
    "tags": []
   },
   "outputs": [
    {
     "output_type": "stream",
     "name": "stdout",
     "text": "['100001']\n['1000001']\n[]\n[]\n[]\n"
    }
   ],
   "source": [
    "#边界匹配 ^字符串开始匹配 $字符串末尾匹配\n",
    "import re\n",
    "qq='100001'\n",
    "qq1='1000001'\n",
    "#4-8位\n",
    "r=re.findall('\\d{4,8}',qq) \n",
    "r1=re.findall('\\d{4,8}',qq1)#不符合的也出力出来了，因此这种写法存在问题，需要导入边界匹配\n",
    "r2=re.findall('\\d{^4,8$}',qq1) #以4位开始，8位结束的匹配，9位的匹配不进来\n",
    "r3=re.findall('^000',qq1) #以000开始\n",
    "r4=re.findall('000$',qq1) #以000结束\n",
    "print(r)\n",
    "print(r1)\n",
    "print(r2)\n",
    "print(r3)\n",
    "print(r4)\n",
    "\n"
   ]
  },
  {
   "cell_type": "code",
   "execution_count": null,
   "metadata": {},
   "outputs": [],
   "source": []
  }
 ],
 "metadata": {
  "language_info": {
   "codemirror_mode": {
    "name": "ipython",
    "version": 3
   },
   "file_extension": ".py",
   "mimetype": "text/x-python",
   "name": "python",
   "nbconvert_exporter": "python",
   "pygments_lexer": "ipython3",
   "version": "3.8.3-final"
  },
  "orig_nbformat": 2,
  "kernelspec": {
   "name": "python38364bit963067c1be2945f39f5fdda088dafdb2",
   "display_name": "Python 3.8.3 64-bit"
  }
 },
 "nbformat": 4,
 "nbformat_minor": 2
}