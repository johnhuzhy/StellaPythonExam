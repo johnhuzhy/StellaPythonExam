{
 "cells": [
  {
   "cell_type": "code",
   "execution_count": 7,
   "metadata": {
    "tags": []
   },
   "outputs": [
    {
     "output_type": "stream",
     "name": "stdout",
     "text": "[('Python', 'Js')]\n"
    }
   ],
   "source": [
    "#组\n",
    "import re\n",
    "a='PythonPythonPythonPythonPythonJs'\n",
    "r=re.findall('(Python)(Js)',a) #[abc]或者关系 ()且关系\n",
    "print(r)"
   ]
  },
  {
   "cell_type": "code",
   "execution_count": 10,
   "metadata": {
    "tags": []
   },
   "outputs": [
    {
     "output_type": "stream",
     "name": "stdout",
     "text": "['C#']\n['C#\\n']\n"
    }
   ],
   "source": [
    "#匹配模式参数\n",
    "import re \n",
    "language='PythonC#\\nJavaPHP'\n",
    "r=re.findall('c#',language,re.I) #re.I就是匹配模式参数 忽略大小写 \n",
    "r1=re.findall('c#.{1}',language,re.I | re.S)# re.S可以匹配所有字符  .匹配除换行符\\n之外的其他所有字符 |这里代表且的关系，都要合\n",
    "#c#.{1} 匹配c#以及后的任意一个字符。\n",
    "print(r)\n",
    "print(r1)\n"
   ]
  },
  {
   "cell_type": "code",
   "execution_count": null,
   "metadata": {},
   "outputs": [],
   "source": []
  }
 ],
 "metadata": {
  "language_info": {
   "codemirror_mode": {
    "name": "ipython",
    "version": 3
   },
   "file_extension": ".py",
   "mimetype": "text/x-python",
   "name": "python",
   "nbconvert_exporter": "python",
   "pygments_lexer": "ipython3",
   "version": "3.8.3-final"
  },
  "orig_nbformat": 2,
  "kernelspec": {
   "name": "python38364bit963067c1be2945f39f5fdda088dafdb2",
   "display_name": "Python 3.8.3 64-bit"
  }
 },
 "nbformat": 4,
 "nbformat_minor": 2
}