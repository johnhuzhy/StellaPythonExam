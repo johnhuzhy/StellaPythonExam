{
 "cells": [
  {
   "cell_type": "code",
   "execution_count": 4,
   "metadata": {
    "tags": []
   },
   "outputs": [
    {
     "output_type": "stream",
     "name": "stdout",
     "text": "PythonGOJavaGOPHPGO\nPythonGOJavaC#PHPC#\n"
    }
   ],
   "source": [
    "#20200622\n",
    "#sub正则替换\n",
    "import re\n",
    "languae='PythonC#JavaC#PHPC#'\n",
    "r=re.sub('C#','GO',languae,0) #全部替换\n",
    "r1=re.sub('C#','GO',languae,1) #替换1个\n",
    "print(r)\n",
    "print(r1)"
   ]
  },
  {
   "cell_type": "code",
   "execution_count": 6,
   "metadata": {
    "tags": []
   },
   "outputs": [
    {
     "output_type": "stream",
     "name": "stdout",
     "text": "<re.Match object; span=(6, 8), match='C#'>\n<re.Match object; span=(12, 14), match='C#'>\n<re.Match object; span=(17, 19), match='C#'>\nPython!!C#!!Java!!C#!!PHP!!C#!!\n"
    }
   ],
   "source": [
    "#sub里可以把函数当参数传入\n",
    "import re\n",
    "languae='PythonC#JavaC#PHPC#'\n",
    "\n",
    "def convert(value):\n",
    "    print(value)\n",
    "    matched=value.group()\n",
    "    return '!!'+matched+'!!'\n",
    "r=re.sub('C#',convert,languae)\n",
    "print(r)"
   ]
  },
  {
   "cell_type": "code",
   "execution_count": 7,
   "metadata": {
    "tags": []
   },
   "outputs": [
    {
     "output_type": "stream",
     "name": "stdout",
     "text": "A90C90D0D9E99\n"
    }
   ],
   "source": [
    "#把函数作为参数传递\n",
    "import re\n",
    "s='A83C72D1D8E67'\n",
    "#实现需求，把大于6的数字都替换成9，把小于6的数字都替换成0\n",
    "def convert (value):\n",
    "    #python里取得的是字符串，需要转为int再比较，返回时也要写字符串\n",
    "    matched=value.group()\n",
    "    if int(matched)>=6:\n",
    "        return '9'\n",
    "    else:\n",
    "         return '0'\n",
    "\n",
    "r=re.sub('\\d',convert,s)\n",
    "print(r)"
   ]
  },
  {
   "cell_type": "code",
   "execution_count": null,
   "metadata": {},
   "outputs": [],
   "source": []
  }
 ],
 "metadata": {
  "language_info": {
   "codemirror_mode": {
    "name": "ipython",
    "version": 3
   },
   "file_extension": ".py",
   "mimetype": "text/x-python",
   "name": "python",
   "nbconvert_exporter": "python",
   "pygments_lexer": "ipython3",
   "version": "3.8.3-final"
  },
  "orig_nbformat": 2,
  "kernelspec": {
   "name": "python38364bit963067c1be2945f39f5fdda088dafdb2",
   "display_name": "Python 3.8.3 64-bit"
  }
 },
 "nbformat": 4,
 "nbformat_minor": 2
}