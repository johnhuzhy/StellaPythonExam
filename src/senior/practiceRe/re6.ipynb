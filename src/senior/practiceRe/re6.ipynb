{
 "cells": [
  {
   "cell_type": "code",
   "execution_count": 2,
   "metadata": {
    "tags": []
   },
   "outputs": [
    {
     "output_type": "stream",
     "name": "stdout",
     "text": "None\n8\n['8', '3', '7', '2']\n"
    }
   ],
   "source": [
    "#20200622\n",
    "#search与match函数\n",
    "#match是从第一个匹配，如果符合，就存在，不符合就是None\n",
    "#search找到适合的就停止后面的匹配\n",
    "#findall是全部检索 findall用得要多点\n",
    "import re\n",
    "s='s83C72DADV'\n",
    "r=re.match('\\d',s)\n",
    "print(r)\n",
    "r1=re.search('\\d',s)\n",
    "print(r1.group())\n",
    "r2=re.findall('\\d',s)\n",
    "print(r2)\n"
   ]
  },
  {
   "cell_type": "code",
   "execution_count": 3,
   "metadata": {
    "tags": []
   },
   "outputs": [
    {
     "output_type": "stream",
     "name": "stdout",
     "text": "('life is short,i use python,i love python', ' is short,i use ', ',i love ')\n(' is short,i use ', ',i love ')\n"
    }
   ],
   "source": [
    "#group分组\n",
    "import re\n",
    "s='life is short,i use python,i love python'\n",
    "#提取life和python之间的字符，提取python和python之间的字符\n",
    "r=re.search('life(.*)python(.*)python',s)\n",
    "print(r.group(0,1,2)) #0代表是最完整的字符，1代表第一个分组，2代表第二个分组\n",
    "print(r.groups())#直接返回分组内容"
   ]
  },
  {
   "cell_type": "code",
   "execution_count": null,
   "metadata": {},
   "outputs": [],
   "source": [
    "#python的用途:爬虫，数据统计和分析"
   ]
  }
 ],
 "metadata": {
  "language_info": {
   "codemirror_mode": {
    "name": "ipython",
    "version": 3
   },
   "file_extension": ".py",
   "mimetype": "text/x-python",
   "name": "python",
   "nbconvert_exporter": "python",
   "pygments_lexer": "ipython3",
   "version": "3.8.3-final"
  },
  "orig_nbformat": 2,
  "kernelspec": {
   "name": "python38364bit963067c1be2945f39f5fdda088dafdb2",
   "display_name": "Python 3.8.3 64-bit"
  }
 },
 "nbformat": 4,
 "nbformat_minor": 2
}