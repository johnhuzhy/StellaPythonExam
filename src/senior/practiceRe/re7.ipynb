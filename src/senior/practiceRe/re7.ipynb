{
 "cells": [
  {
   "cell_type": "code",
   "execution_count": 8,
   "metadata": {
    "tags": []
   },
   "outputs": [
    {
     "output_type": "stream",
     "name": "stdout",
     "text": "<class 'dict'>\n{'name': 'stella', 'age': 24}\n<class 'list'>\n[{'name': 'stella', 'age': 24, 'flag': False}, {'name': 'john', 'age': 30, 'flag': True}]\n"
    }
   ],
   "source": [
    "#20200623\n",
    "#JSON是一种轻量级的数据交换格式 XML太复杂了\n",
    "#JSON是一种数据格式\n",
    "#XML 是一种重量级的数据交换格式，稍显复杂。JSON 易于阅读，易于解析，跨语言交换数据。网络传输效率高\n",
    "\n",
    "#反序列化 json转化成python\n",
    "\n",
    "import json\n",
    "#json是数据格式  以下是obeject，转换成python，类型就是字典 \n",
    "json_str='{\"name\":\"stella\",\"age\":24}'\n",
    "#json是数据格式  以下是array，转换成python，类型就是list\n",
    "json_str2='[{\"name\":\"stella\",\"age\":24,\"flag\":false},{\"name\":\"john\",\"age\":30,\"flag\":true}]'\n",
    "student=json.loads(json_str)\n",
    "print(type(student))\n",
    "print(student)\n",
    "liststudent=json.loads(json_str2)\n",
    "print(type(liststudent))\n",
    "print(liststudent)\n",
    "\n",
    "\n"
   ]
  },
  {
   "cell_type": "code",
   "execution_count": null,
   "metadata": {},
   "outputs": [],
   "source": [
    "# json和python之间的转换格式\n",
    "# json          python\n",
    "# object        dict\n",
    "# array         list\n",
    "# string        str\n",
    "# number        int\n",
    "# number        float\n",
    "# true          True\n",
    "# false         False\n",
    "# null          None\n",
    "\n",
    "\n"
   ]
  },
  {
   "cell_type": "code",
   "execution_count": 10,
   "metadata": {
    "tags": []
   },
   "outputs": [
    {
     "output_type": "stream",
     "name": "stdout",
     "text": "<class 'str'>\n[{\"name\": \"stella\", \"age\": 24, \"flag\": false}, {\"name\": \"john\", \"age\": 30, \"flag\": true}]\n"
    }
   ],
   "source": [
    "#序列化把python转成json \n",
    "import json\n",
    "json_str2=[\n",
    "           {\"name\":\"stella\",\"age\":24,\"flag\":False},\n",
    "           {\"name\":\"john\",\"age\":30,\"flag\":True}\n",
    "           ]\n",
    "student=json.dumps(json_str2)\n",
    "print(type(student))\n",
    "print(student)\n"
   ]
  },
  {
   "cell_type": "code",
   "execution_count": null,
   "metadata": {},
   "outputs": [],
   "source": [
    "# JSON对象 JSON  JSON字符串\n",
    "#json中间数据类型，可以实现不同语言的快速转换\n"
   ]
  }
 ],
 "metadata": {
  "language_info": {
   "codemirror_mode": {
    "name": "ipython",
    "version": 3
   },
   "file_extension": ".py",
   "mimetype": "text/x-python",
   "name": "python",
   "nbconvert_exporter": "python",
   "pygments_lexer": "ipython3",
   "version": "3.8.3-final"
  },
  "orig_nbformat": 2,
  "kernelspec": {
   "name": "python38364bit963067c1be2945f39f5fdda088dafdb2",
   "display_name": "Python 3.8.3 64-bit"
  }
 },
 "nbformat": 4,
 "nbformat_minor": 2
}